{
 "cells": [
  {
   "attachments": {},
   "cell_type": "markdown",
   "metadata": {},
   "source": [
    "# Worksheet 05\n",
    "\n",
    "Name:  Michael Cao\n",
    "UID: U517256040\n",
    "\n",
    "### Topics\n",
    "\n",
    "- Cost Functions\n",
    "- Kmeans\n",
    "\n",
    "### Cost Function\n",
    "\n",
    "Solving Data Science problems often starts by defining a metric with which to evaluate solutions were you able to find some. This metric is called a cost function. Data Science then backtracks and tries to find a process / algorithm to find solutions that can optimize for that cost function.\n",
    "\n",
    "For example suppose you are asked to cluster three points A, B, C into two non-empty clusters. If someone gave you the solution `{A, B}, {C}`, how would you evaluate that this is a good solution?\n",
    "\n",
    "Notice that because the clusters need to be non-empty and all points must be assigned to a cluster, it must be that two of the three points will be together in one cluster and the third will be alone in the other cluster.\n",
    "\n",
    "In the above solution, if A and B are closer than A and C, and B and C, then this is a good solution. The smaller the distance between the two points in the same cluster (here A and B), the better the solution. So we can define our cost function to be that distance (between A and B here)!\n",
    "\n",
    "The algorithm / process would involve clustering together the two closest points and put the third in its own cluster. This process optimizes for that cost function because no other pair of points could have a lower distance (although it could equal it)."
   ]
  },
  {
   "cell_type": "markdown",
   "metadata": {},
   "source": [
    "### K means\n",
    "\n",
    "a) (1-dimensional clustering) Walk through Lloyd's algorithm step by step on the following dataset:\n",
    "\n",
    "`[0, .5, 1.5, 2, 6, 6.5, 7]` (note: each of these are 1-dimensional data points)\n",
    "\n",
    "Given the initial centroids:\n",
    "\n",
    "`[0, 2]`"
   ]
  },
  {
   "cell_type": "markdown",
   "metadata": {},
   "source": [
    "cluster 1: [0, 0.5] cluster 2: [1.5, 2, 6, 6.5, 7]  \n",
    "new centroid: [0.25, 4.6]  \n",
    "cluster 1: [0, 0.5, 1.5, 2] cluster 2: [6, 6.5, 7]  \n",
    "new centroids: [1, 6.5]   \n",
    "cluster 1: [0, 0.5, 1.5, 2] cluster 2: [6, 6.5, 7]  \n",
    "stable at this point  "
   ]
  },
  {
   "cell_type": "markdown",
   "metadata": {},
   "source": [
    "b) Describe in plain english what the cost function for k means is."
   ]
  },
  {
   "cell_type": "markdown",
   "metadata": {},
   "source": [
    "the cost function for k-means is a minimizing function for the variance of all far all points and its dstance from from its centroid of its cluster it is in."
   ]
  },
  {
   "cell_type": "markdown",
   "metadata": {},
   "source": [
    "c) For the same number of clusters K, why could there be very different solutions to the K means algorithm on a given dataset?"
   ]
  },
  {
   "cell_type": "markdown",
   "metadata": {},
   "source": [
    "Its possible for with the same value of k clustesr to have different solutions in the k means algorithm because different solutions may have similar minimizing cost functions which may give a different solutions"
   ]
  },
  {
   "cell_type": "markdown",
   "metadata": {},
   "source": [
    "d) Does Lloyd's Algorithm always converge? Why / why not?"
   ]
  },
  {
   "cell_type": "markdown",
   "metadata": {},
   "source": [
    "It always converge. It's not possible for it to not converge.\n",
    "We are trying to find the lowest possible value for the cost function. We always find a better clustering and looping through the set of clusters over and over and were imrpoving the cost with each step of algoirthm. Its always decreasing and you can't go back to a previous clustering. So you wont find a cycle that would cause infinite loop"
   ]
  },
  {
   "attachments": {},
   "cell_type": "markdown",
   "metadata": {},
   "source": [
    "e) Follow along in class the implementation of Kmeans"
   ]
  },
  {
   "cell_type": "code",
   "execution_count": 4,
   "metadata": {},
   "outputs": [
    {
     "ename": "TypeError",
     "evalue": "'int' object does not support item assignment",
     "output_type": "error",
     "traceback": [
      "\u001b[0;31m---------------------------------------------------------------------------\u001b[0m",
      "\u001b[0;31mTypeError\u001b[0m                                 Traceback (most recent call last)",
      "\u001b[1;32m/Users/michaelcao/Code/Classes/CS506/Data-Science-Fundamentals/lecture_05/worksheet_05.ipynb Cell 11\u001b[0m line \u001b[0;36m7\n\u001b[1;32m     <a href='vscode-notebook-cell:/Users/michaelcao/Code/Classes/CS506/Data-Science-Fundamentals/lecture_05/worksheet_05.ipynb#X13sZmlsZQ%3D%3D?line=71'>72</a>\u001b[0m         \u001b[39mreturn\u001b[39;00m\n\u001b[1;32m     <a href='vscode-notebook-cell:/Users/michaelcao/Code/Classes/CS506/Data-Science-Fundamentals/lecture_05/worksheet_05.ipynb#X13sZmlsZQ%3D%3D?line=76'>77</a>\u001b[0m kmeans \u001b[39m=\u001b[39m KMeans(X, \u001b[39m6\u001b[39m)\n\u001b[0;32m---> <a href='vscode-notebook-cell:/Users/michaelcao/Code/Classes/CS506/Data-Science-Fundamentals/lecture_05/worksheet_05.ipynb#X13sZmlsZQ%3D%3D?line=77'>78</a>\u001b[0m kmeans\u001b[39m.\u001b[39;49mlloyds()\n\u001b[1;32m     <a href='vscode-notebook-cell:/Users/michaelcao/Code/Classes/CS506/Data-Science-Fundamentals/lecture_05/worksheet_05.ipynb#X13sZmlsZQ%3D%3D?line=78'>79</a>\u001b[0m images \u001b[39m=\u001b[39m kmeans\u001b[39m.\u001b[39msnaps\n\u001b[1;32m     <a href='vscode-notebook-cell:/Users/michaelcao/Code/Classes/CS506/Data-Science-Fundamentals/lecture_05/worksheet_05.ipynb#X13sZmlsZQ%3D%3D?line=80'>81</a>\u001b[0m images[\u001b[39m0\u001b[39m]\u001b[39m.\u001b[39msave(\n\u001b[1;32m     <a href='vscode-notebook-cell:/Users/michaelcao/Code/Classes/CS506/Data-Science-Fundamentals/lecture_05/worksheet_05.ipynb#X13sZmlsZQ%3D%3D?line=81'>82</a>\u001b[0m     \u001b[39m'\u001b[39m\u001b[39mkmeans.gif\u001b[39m\u001b[39m'\u001b[39m,\n\u001b[1;32m     <a href='vscode-notebook-cell:/Users/michaelcao/Code/Classes/CS506/Data-Science-Fundamentals/lecture_05/worksheet_05.ipynb#X13sZmlsZQ%3D%3D?line=82'>83</a>\u001b[0m     optimize\u001b[39m=\u001b[39m\u001b[39mFalse\u001b[39;00m,\n\u001b[0;32m   (...)\u001b[0m\n\u001b[1;32m     <a href='vscode-notebook-cell:/Users/michaelcao/Code/Classes/CS506/Data-Science-Fundamentals/lecture_05/worksheet_05.ipynb#X13sZmlsZQ%3D%3D?line=86'>87</a>\u001b[0m     duration\u001b[39m=\u001b[39m\u001b[39m500\u001b[39m\n\u001b[1;32m     <a href='vscode-notebook-cell:/Users/michaelcao/Code/Classes/CS506/Data-Science-Fundamentals/lecture_05/worksheet_05.ipynb#X13sZmlsZQ%3D%3D?line=87'>88</a>\u001b[0m )\n",
      "\u001b[1;32m/Users/michaelcao/Code/Classes/CS506/Data-Science-Fundamentals/lecture_05/worksheet_05.ipynb Cell 11\u001b[0m line \u001b[0;36m6\n\u001b[1;32m     <a href='vscode-notebook-cell:/Users/michaelcao/Code/Classes/CS506/Data-Science-Fundamentals/lecture_05/worksheet_05.ipynb#X13sZmlsZQ%3D%3D?line=60'>61</a>\u001b[0m \u001b[39mdef\u001b[39;00m \u001b[39mlloyds\u001b[39m(\u001b[39mself\u001b[39m):\n\u001b[1;32m     <a href='vscode-notebook-cell:/Users/michaelcao/Code/Classes/CS506/Data-Science-Fundamentals/lecture_05/worksheet_05.ipynb#X13sZmlsZQ%3D%3D?line=61'>62</a>\u001b[0m     centers \u001b[39m=\u001b[39m \u001b[39mself\u001b[39m\u001b[39m.\u001b[39minitialize()\n\u001b[0;32m---> <a href='vscode-notebook-cell:/Users/michaelcao/Code/Classes/CS506/Data-Science-Fundamentals/lecture_05/worksheet_05.ipynb#X13sZmlsZQ%3D%3D?line=62'>63</a>\u001b[0m     \u001b[39mself\u001b[39;49m\u001b[39m.\u001b[39;49massign(centers)\n\u001b[1;32m     <a href='vscode-notebook-cell:/Users/michaelcao/Code/Classes/CS506/Data-Science-Fundamentals/lecture_05/worksheet_05.ipynb#X13sZmlsZQ%3D%3D?line=63'>64</a>\u001b[0m     \u001b[39mself\u001b[39m\u001b[39m.\u001b[39msnap(centers)\n\u001b[1;32m     <a href='vscode-notebook-cell:/Users/michaelcao/Code/Classes/CS506/Data-Science-Fundamentals/lecture_05/worksheet_05.ipynb#X13sZmlsZQ%3D%3D?line=64'>65</a>\u001b[0m     new_centers \u001b[39m=\u001b[39m \u001b[39mself\u001b[39m\u001b[39m.\u001b[39mget_centers()\n",
      "\u001b[1;32m/Users/michaelcao/Code/Classes/CS506/Data-Science-Fundamentals/lecture_05/worksheet_05.ipynb Cell 11\u001b[0m line \u001b[0;36m3\n\u001b[1;32m     <a href='vscode-notebook-cell:/Users/michaelcao/Code/Classes/CS506/Data-Science-Fundamentals/lecture_05/worksheet_05.ipynb#X13sZmlsZQ%3D%3D?line=35'>36</a>\u001b[0m         \u001b[39mif\u001b[39;00m dist \u001b[39m<\u001b[39m minimum:\n\u001b[1;32m     <a href='vscode-notebook-cell:/Users/michaelcao/Code/Classes/CS506/Data-Science-Fundamentals/lecture_05/worksheet_05.ipynb#X13sZmlsZQ%3D%3D?line=36'>37</a>\u001b[0m             minimum \u001b[39m=\u001b[39m dist\n\u001b[0;32m---> <a href='vscode-notebook-cell:/Users/michaelcao/Code/Classes/CS506/Data-Science-Fundamentals/lecture_05/worksheet_05.ipynb#X13sZmlsZQ%3D%3D?line=37'>38</a>\u001b[0m             \u001b[39mself\u001b[39;49m\u001b[39m.\u001b[39;49massignment[i] \u001b[39m=\u001b[39m j \n\u001b[1;32m     <a href='vscode-notebook-cell:/Users/michaelcao/Code/Classes/CS506/Data-Science-Fundamentals/lecture_05/worksheet_05.ipynb#X13sZmlsZQ%3D%3D?line=38'>39</a>\u001b[0m \u001b[39mreturn\u001b[39;00m\n",
      "\u001b[0;31mTypeError\u001b[0m: 'int' object does not support item assignment"
     ]
    }
   ],
   "source": [
    "import numpy as np\n",
    "from PIL import Image as im\n",
    "import matplotlib.pyplot as plt\n",
    "import sklearn.datasets as datasets\n",
    "\n",
    "centers = [[0, 0], [2, 2], [-3, 2], [2, -4]]\n",
    "X, _ = datasets.make_blobs(n_samples=300, centers=centers, cluster_std=1, random_state=0)\n",
    "\n",
    "class KMeans():\n",
    "\n",
    "    def __init__(self, data, k):\n",
    "        self.data = data\n",
    "        self.k = k\n",
    "        self.assignment = [-1 for _ in range(len(data))]\n",
    "        self.snaps = []\n",
    "    \n",
    "    def snap(self, centers):\n",
    "        TEMPFILE = \"temp.png\"\n",
    "\n",
    "        fig, ax = plt.subplots()\n",
    "        ax.scatter(X[:, 0], X[:, 1], c=self.assignment)\n",
    "        ax.scatter(centers[:,0], centers[:, 1], c='r')\n",
    "        fig.savefig(TEMPFILE)\n",
    "        plt.close()\n",
    "        self.snaps.append(im.fromarray(np.asarray(im.open(TEMPFILE))))\n",
    "\n",
    "    def initialize(self):\n",
    "        return self.data[np.random.choice(range(len(self.data)), size=self.k, replace=False)]\n",
    "    \n",
    "    def assign(self, centers):\n",
    "        for i in range(len(self.data)):\n",
    "            minimum = self.distance(centers[0], self.data[i])\n",
    "            self.assignment = 0\n",
    "            for j in range(1, len(centers)):\n",
    "                dist = self.distance(centers[j], self.data[i])\n",
    "                if dist < minimum:\n",
    "                    minimum = dist\n",
    "                    self.assignment[i] = j \n",
    "        return\n",
    "    def distance(self, x, y):\n",
    "        return np.linalg.norm(x-y)\n",
    "    \n",
    "    def get_centers(self):\n",
    "        centers = []\n",
    "        for i in set(self.assignment):\n",
    "            cluster = []\n",
    "            for j in range(len(self.data)):\n",
    "                if self.assignment[j] == i:\n",
    "                    cluster.append(self.data[j])\n",
    "            centers.append(np.mean(cluster, axis=0))\n",
    "        return centers\n",
    "\n",
    "    \n",
    "    def is_diff_clusters(self, centers, new_centers):\n",
    "        for i in range(len(centers)):\n",
    "            if self.distance(centers[i], new_centers[i]) != 0:\n",
    "                return True\n",
    "        return False\n",
    "    \n",
    "\n",
    "    def lloyds(self):\n",
    "        centers = self.initialize()\n",
    "        self.assign(centers)\n",
    "        self.snap(centers)\n",
    "        new_centers = self.get_centers()\n",
    "        while self.is_diff_clusters(centers, new_centers):\n",
    "            self.assign(new_centers)\n",
    "            centers = new_centers\n",
    "            self.snap(new_centers)\n",
    "            new_centers = self.get_centers()\n",
    "\n",
    "        return\n",
    "    \n",
    "\n",
    "            \n",
    "\n",
    "kmeans = KMeans(X, 6)\n",
    "kmeans.lloyds()\n",
    "images = kmeans.snaps\n",
    "\n",
    "images[0].save(\n",
    "    'kmeans.gif',\n",
    "    optimize=False,\n",
    "    save_all=True,\n",
    "    append_images=images[1:],\n",
    "    loop=0,\n",
    "    duration=500\n",
    ")"
   ]
  },
  {
   "cell_type": "code",
   "execution_count": null,
   "metadata": {},
   "outputs": [],
   "source": []
  }
 ],
 "metadata": {
  "kernelspec": {
   "display_name": "Python 3",
   "language": "python",
   "name": "python3"
  },
  "language_info": {
   "codemirror_mode": {
    "name": "ipython",
    "version": 3
   },
   "file_extension": ".py",
   "mimetype": "text/x-python",
   "name": "python",
   "nbconvert_exporter": "python",
   "pygments_lexer": "ipython3",
   "version": "3.12.0"
  },
  "orig_nbformat": 4,
  "vscode": {
   "interpreter": {
    "hash": "76ca05dc3ea24b2e3b98cdb7774adfbb40773424bf5109b477fd793f623715af"
   }
  }
 },
 "nbformat": 4,
 "nbformat_minor": 2
}
