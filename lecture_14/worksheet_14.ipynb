{
 "cells": [
  {
   "attachments": {},
   "cell_type": "markdown",
   "metadata": {},
   "source": [
    "# Worksheet 14\n",
    "\n",
    "Name:  Michael Cao\n",
    "UID: U51725640\n",
    "\n",
    "### Topics\n",
    "\n",
    "- Naive Bayes\n",
    "- Model Evaluation\n",
    "\n",
    "### Naive Bayes\n",
    "\n",
    "| Attribute A | Attribute B | Attribute C | Class |\n",
    "|-------------|-------------|-------------|-------|\n",
    "| Yes         | Single      | High        | No    |\n",
    "| No          | Married     | Mid         | No    |\n",
    "| No          | Single      | Low         | No    |\n",
    "| Yes         | Married     | High        | No    |\n",
    "| No          | Divorced    | Mid         | Yes   |\n",
    "| No          | Married     | Low         | No    |\n",
    "| Yes         | Divorced    | High        | No    |\n",
    "| No          | Single      | Mid         | Yes   |\n",
    "| No          | Married     | Low         | No    |\n",
    "| No          | Single      | Mid         | Yes   |\n",
    "\n",
    "a) Compute the following probabilities:\n",
    "\n",
    "- P(Attribute A = Yes | Class = No)\n",
    "- P(Attribute B = Divorced | Class = Yes)\n",
    "- P(Attribute C = High | Class = No)\n",
    "- P(Attribute C = Mid | Class = Yes)"
   ]
  },
  {
   "cell_type": "markdown",
   "metadata": {},
   "source": [
    "3/7  \n",
    "1/3  \n",
    "3/7  \n",
    "3/3  \n"
   ]
  },
  {
   "cell_type": "markdown",
   "metadata": {},
   "source": [
    "b) Classify the following unseen records:\n",
    "\n",
    "- (Yes, Married, Mid)\n",
    "- (No, Divorced, High)\n",
    "- (No, Single, High)\n",
    "- (No, Divorced, Low)"
   ]
  },
  {
   "cell_type": "markdown",
   "metadata": {},
   "source": [
    "P(yes | C = yes) * P( Married | C = yes) * P (Mid | C = yes) * P (Yes)  \n",
    "vs  \n",
    "P(yes | C = no) *  P(Married | C = no) * P(Mid | C = no) * P(no)  \n",
    "\n",
    "Return the class that has the higher value\n",
    "\n",
    "(Yes, Married, Mid)  \n",
    "YES: 0/3 * 0/3 * 3/3 * 3/10 = 0  \n",
    "NO: 3/7 * 4/7 * 1/7 * 7/10 = 84/3430  \n",
    "Class = NO\n",
    "\n",
    "(No, Divorced, High)  \n",
    "YES: 3/3 * 1/3 * 0/3 * 3/10 = 0\n",
    "NO: 4/7 * 1/7 * 3/7 * 7/10  = 84/3430  \n",
    "Class = NO\n",
    "\n",
    "(No, Single, High)  \n",
    "YES: 3/3 * 2/3 * 0/3 * 3/10 = 0  \n",
    "NO: 4/7 * 2/7 * 3/7 * 7/10 = 168/3480  \n",
    "Class = NO\n",
    "\n",
    "(No, Divorced, Low)  \n",
    "YES: 3/3 * 1/3 * 0/3 * 3/10 = 0  \n",
    "NO: 4/7 * 1/7 * 3/7 * 7/10 =  84/3430  \n",
    "Class = NO\n"
   ]
  },
  {
   "cell_type": "markdown",
   "metadata": {},
   "source": [
    "### Model Evaluation\n",
    "\n",
    "a) Write a function to generate the confusion matrix for a list of actual classes and a list of predicted classes"
   ]
  },
  {
   "cell_type": "code",
   "execution_count": 7,
   "metadata": {},
   "outputs": [
    {
     "name": "stdout",
     "output_type": "stream",
     "text": [
      "[[2, 1], [3, 4]]\n"
     ]
    }
   ],
   "source": [
    "actual_class = [\"Yes\", \"No\", \"No\", \"Yes\", \"No\", \"No\", \"Yes\", \"No\", \"No\", \"No\"]\n",
    "predicted_class = [\"Yes\", \"No\", \"Yes\", \"No\", \"No\", \"No\", \"Yes\", \"Yes\", \"Yes\", \"No\"]\n",
    "\n",
    "def confusion_matrix(actual, predicted):\n",
    "    a, b, c, d = 0, 0, 0, 0\n",
    "    for actual, predicted in zip(actual, predicted):\n",
    "        if actual == \"Yes\" and predicted == \"Yes\":\n",
    "            a += 1\n",
    "        elif actual == \"No\" and predicted == \"No\":\n",
    "            d += 1\n",
    "        elif actual == \"No\" and predicted == \"Yes\":\n",
    "            c += 1\n",
    "        elif actual == \"Yes\" and predicted == \"No\":\n",
    "            b += 1\n",
    "    \n",
    "    return [[a, b], [c, d]]\n",
    "\n",
    "print(confusion_matrix(actual_class, predicted_class))"
   ]
  },
  {
   "cell_type": "markdown",
   "metadata": {},
   "source": [
    "b) Assume you have the following Cost Matrix:\n",
    "\n",
    "|            | predicted = Y | predicted = N |\n",
    "|------------|---------------|---------------|\n",
    "| actual = Y |       -1      |       5       |\n",
    "| actual = N |        10     |       0       |\n",
    "\n",
    "What is the cost of the above classification?"
   ]
  },
  {
   "cell_type": "markdown",
   "metadata": {},
   "source": [
    "$-1*2 + 5*1 + 10*3 + 4*0 = 33$"
   ]
  },
  {
   "cell_type": "markdown",
   "metadata": {},
   "source": [
    "c) Write a function that takes in the actual values, the predictions, and a cost matrix and outputs a cost. Test it on the above example."
   ]
  },
  {
   "cell_type": "code",
   "execution_count": 8,
   "metadata": {},
   "outputs": [
    {
     "name": "stdout",
     "output_type": "stream",
     "text": [
      "33\n"
     ]
    }
   ],
   "source": [
    "def cost(actual, predicted, cost_matrix):\n",
    "    matrix = confusion_matrix(actual, predicted)\n",
    "    return matrix[0][0] * cost_matrix[0][0] + matrix[0][1] * cost_matrix[0][1] + matrix[1][0] * cost_matrix[1][0] + matrix[1][1] * cost_matrix[1][1]\n",
    "\n",
    "cost_matrix = [[-1, 5], [10, 0]]\n",
    "print(cost(actual_class, predicted_class, cost_matrix))"
   ]
  },
  {
   "cell_type": "markdown",
   "metadata": {},
   "source": [
    "d) Implement functions for the following:\n",
    "\n",
    "- accuracy\n",
    "- precision\n",
    "- recall\n",
    "- f-measure\n",
    "\n",
    "and apply them to the above example."
   ]
  },
  {
   "cell_type": "code",
   "execution_count": 9,
   "metadata": {},
   "outputs": [
    {
     "name": "stdout",
     "output_type": "stream",
     "text": [
      "0.6\n",
      "0.4\n",
      "0.6666666666666666\n",
      "0.5\n"
     ]
    }
   ],
   "source": [
    "def accuracy(predicted, actual):\n",
    "    total = 0\n",
    "    for p, a in zip(predicted, actual):\n",
    "        if p == a:\n",
    "            total += 1\n",
    "    return total / len(predicted)\n",
    "\n",
    "def precision(confusion_matrix):\n",
    "    a = confusion_matrix[0][0]\n",
    "    c = confusion_matrix[1][0]\n",
    "    return a / (a + c)\n",
    "\n",
    "def recall(confusion_matrix):\n",
    "    a = confusion_matrix[0][0]\n",
    "    b = confusion_matrix[0][1]\n",
    "    return a / (a + b)\n",
    "\n",
    "def f_measure(confusion_matrix):\n",
    "    p = precision(confusion_matrix)\n",
    "    r = recall(confusion_matrix)\n",
    "    return 2 * p * r / (p + r)\n",
    "\n",
    "print(accuracy(predicted_class, actual_class))\n",
    "print(precision(confusion_matrix(actual_class, predicted_class)))\n",
    "print(recall(confusion_matrix(actual_class, predicted_class)))\n",
    "print(f_measure(confusion_matrix(actual_class, predicted_class)))\n",
    "\n"
   ]
  },
  {
   "cell_type": "code",
   "execution_count": null,
   "metadata": {},
   "outputs": [],
   "source": []
  }
 ],
 "metadata": {
  "kernelspec": {
   "display_name": "Python 3",
   "language": "python",
   "name": "python3"
  },
  "language_info": {
   "codemirror_mode": {
    "name": "ipython",
    "version": 3
   },
   "file_extension": ".py",
   "mimetype": "text/x-python",
   "name": "python",
   "nbconvert_exporter": "python",
   "pygments_lexer": "ipython3",
   "version": "3.12.0"
  },
  "orig_nbformat": 4,
  "vscode": {
   "interpreter": {
    "hash": "e7370f93d1d0cde622a1f8e1c04877d8463912d04d973331ad4851f04de6915a"
   }
  }
 },
 "nbformat": 4,
 "nbformat_minor": 2
}
