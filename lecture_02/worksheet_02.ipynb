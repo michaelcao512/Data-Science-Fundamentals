{
 "cells": [
  {
   "attachments": {},
   "cell_type": "markdown",
   "metadata": {},
   "source": [
    "# Worksheet 02\n",
    "\n",
    "Name:  Michael Cao\n",
    "UID: U51725640\n",
    "\n",
    "### Topics\n",
    "\n",
    "- Effective Programming\n",
    "\n",
    "### Effective Programming\n",
    "\n",
    "a) What is a drawback of the top down approach?"
   ]
  },
  {
   "cell_type": "markdown",
   "metadata": {},
   "source": [
    "The drawback of the top down approach is you dont have runnable code until the end because you compose everything together at a high level and start slowly implementing the smaller and smaller components as you go through the levels"
   ]
  },
  {
   "cell_type": "markdown",
   "metadata": {},
   "source": [
    "b) What is a drawback of the bottom up approach?"
   ]
  },
  {
   "cell_type": "markdown",
   "metadata": {},
   "source": [
    "The drawback of the bottom up approach is that you have to know everything up front or you may be implementing function you may not need - so you will be doing more work. "
   ]
  },
  {
   "cell_type": "markdown",
   "metadata": {},
   "source": [
    "c) What are 3 things you can do to have a better debugging experience?"
   ]
  },
  {
   "cell_type": "markdown",
   "metadata": {},
   "source": [
    "1) Read the error - understand what the error is telling you and look at where the error occur. try to understand if its a cause or a symptom of another bug  \n",
    "2) Re-read the code - Tracing the code to reproducue the error and understand your code  \n",
    "3) Sanity check - check if everything is set up properly and things are communicating with each other properly  "
   ]
  },
  {
   "attachments": {},
   "cell_type": "markdown",
   "metadata": {},
   "source": [
    "d) Follow along with the live coding. You can write your code here:"
   ]
  },
  {
   "cell_type": "code",
   "execution_count": 43,
   "metadata": {},
   "outputs": [],
   "source": [
    "class Board:\n",
    "    def __init__(self):\n",
    "        self.queen = 'Q'\n",
    "        self.blank = '_'\n",
    "        self.board = [[self.blank for _ in range(8)] for _ in range(8)]\n",
    "\n",
    "    def __repr__(self):\n",
    "        res = \"\"\n",
    "        for row in self.board:\n",
    "            for col in row:\n",
    "                res +=  col\n",
    "                res += \" \"\n",
    "            res += \"\\n\"\n",
    "        return res\n",
    "    \n",
    "    def is_queen(self, row, col):\n",
    "        return self.board[row][col] == self.queen\n",
    "    \n",
    "    def is_legal_row(self, row):\n",
    "        for j in range(len(self.board)):\n",
    "            if self.is_queen(row, j):\n",
    "                return False\n",
    "        return True\n",
    "\n",
    "    def is_legal_col(self, col):\n",
    "        for j in range(len(self.board)):\n",
    "            if self.is_queen(j, col):\n",
    "                return False\n",
    "        return True\n",
    "    \n",
    "    def is_on_board(self, row, col):\n",
    "        return row >= 0 and row < 8 and col >= 0 and col < 8\n",
    "    def is_legal_diag(self, row, col):\n",
    "        for i in range(len(self.board)):\n",
    "            if self.is_on_board(row - i, col - i) and self.board[row-i][col-i] == 'Q':\n",
    "                return False\n",
    "            if self.is_on_board(row - i, col + i) and self.board[row-i][col+i] == 'Q':\n",
    "                return False\n",
    "            if self.is_on_board(row + i, col - i) and self.board[row+i][col-i] == 'Q':\n",
    "                return False\n",
    "            if self.is_on_board(row + i, col + i) and self.board[row+i][col+i] == 'Q':\n",
    "                return False                                    \n",
    "        return True\n",
    "    \n",
    "    def is_legal(self, row, col):\n",
    "        if not self.is_legal_row(row):\n",
    "            return False\n",
    "        if not self.is_legal_col(col):\n",
    "            return False\n",
    "        if not self.is_legal_diag(row, col):\n",
    "            return False\n",
    "        return True\n",
    "    \n",
    "    def set_queen_at(self, row, col):\n",
    "        self.board[row][col] = 'Q'\n",
    "    \n",
    "    def unset_queen_on(self, row):\n",
    "        self.board[row] = [\"_\" for _ in range(8)]\n",
    "\n",
    "    def get_queen_on(self, row):\n",
    "        for col in range(8):\n",
    "            if self.is_queen(row, col):\n",
    "                return col\n",
    "        raise ValueError(\"programmer error\")\n",
    "\n",
    "    def search(self):\n",
    "        row = 0\n",
    "        col = 0\n",
    "\n",
    "        while row < 8:\n",
    "            if self.is_legal(row, col):\n",
    "                self.set_queen_at(row, col)\n",
    "                row += 1\n",
    "                col = 0\n",
    "            else:\n",
    "                col += 1\n",
    "                while col >= 8:\n",
    "                    col = self.get_queen_on(row-1)\n",
    "                    self.unset_queen_on(row-1)\n",
    "                    col += 1\n",
    "                    row -= 1\n",
    "        print(\"found a solution\")\n",
    "        print(self)\n",
    "  \n",
    "    def searchAll(self):\n",
    "        row = 0\n",
    "        col = 0\n",
    "        nsol = 0\n",
    "\n",
    "        while row >= 0:\n",
    "            if row < 8:\n",
    "                if col >= 8:\n",
    "                    row -= 1\n",
    "                    if row >= 0:                    \n",
    "                        col = self.get_queen_on(row) + 1\n",
    "                        self.unset_queen_on(row)\n",
    "                else:\n",
    "                    if self.is_legal(row, col):\n",
    "                        self.set_queen_at(row, col)\n",
    "                        row += 1\n",
    "                        col = 0\n",
    "                    else:\n",
    "                        col += 1\n",
    "            else:\n",
    "                nsol += 1\n",
    "                print(\"found solution  #\", nsol)\n",
    "                print(self)    \n",
    "                row -= 1\n",
    "                col = self.get_queen_on(row) + 1\n",
    "                self.unset_queen_on(row)\n",
    "                                   \n",
    "\n",
    "        print(\"no more solutions\")          "
   ]
  },
  {
   "cell_type": "code",
   "execution_count": 44,
   "metadata": {},
   "outputs": [
    {
     "name": "stdout",
     "output_type": "stream",
     "text": [
      "found a solution\n",
      "Q _ _ _ _ _ _ _ \n",
      "_ _ _ _ Q _ _ _ \n",
      "_ _ _ _ _ _ _ Q \n",
      "_ _ _ _ _ Q _ _ \n",
      "_ _ Q _ _ _ _ _ \n",
      "_ _ _ _ _ _ Q _ \n",
      "_ Q _ _ _ _ _ _ \n",
      "_ _ _ Q _ _ _ _ \n",
      "\n",
      "seraching all\n",
      "no more solutions\n"
     ]
    }
   ],
   "source": [
    "my_board = Board()\n",
    "my_board.search()\n",
    "\n",
    "print(\"seraching all\")\n",
    "my_board.searchAll()\n"
   ]
  },
  {
   "cell_type": "code",
   "execution_count": null,
   "metadata": {},
   "outputs": [],
   "source": []
  }
 ],
 "metadata": {
  "kernelspec": {
   "display_name": "Python 3",
   "language": "python",
   "name": "python3"
  },
  "language_info": {
   "codemirror_mode": {
    "name": "ipython",
    "version": 3
   },
   "file_extension": ".py",
   "mimetype": "text/x-python",
   "name": "python",
   "nbconvert_exporter": "python",
   "pygments_lexer": "ipython3",
   "version": "3.10.7"
  },
  "orig_nbformat": 4,
  "vscode": {
   "interpreter": {
    "hash": "76ca05dc3ea24b2e3b98cdb7774adfbb40773424bf5109b477fd793f623715af"
   }
  }
 },
 "nbformat": 4,
 "nbformat_minor": 2
}
